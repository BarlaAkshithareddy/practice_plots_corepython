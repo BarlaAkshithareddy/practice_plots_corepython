{
 "cells": [
  {
   "cell_type": "code",
   "execution_count": 1,
   "id": "63e0e2fe",
   "metadata": {},
   "outputs": [
    {
     "data": {
      "text/html": [
       "<div>\n",
       "<style scoped>\n",
       "    .dataframe tbody tr th:only-of-type {\n",
       "        vertical-align: middle;\n",
       "    }\n",
       "\n",
       "    .dataframe tbody tr th {\n",
       "        vertical-align: top;\n",
       "    }\n",
       "\n",
       "    .dataframe thead th {\n",
       "        text-align: right;\n",
       "    }\n",
       "</style>\n",
       "<table border=\"1\" class=\"dataframe\">\n",
       "  <thead>\n",
       "    <tr style=\"text-align: right;\">\n",
       "      <th></th>\n",
       "      <th>jobpost</th>\n",
       "      <th>date</th>\n",
       "      <th>Title</th>\n",
       "      <th>Company</th>\n",
       "      <th>AnnouncementCode</th>\n",
       "      <th>Term</th>\n",
       "      <th>Eligibility</th>\n",
       "      <th>Audience</th>\n",
       "      <th>StartDate</th>\n",
       "      <th>Duration</th>\n",
       "      <th>...</th>\n",
       "      <th>Salary</th>\n",
       "      <th>ApplicationP</th>\n",
       "      <th>OpeningDate</th>\n",
       "      <th>Deadline</th>\n",
       "      <th>Notes</th>\n",
       "      <th>AboutC</th>\n",
       "      <th>Attach</th>\n",
       "      <th>Year</th>\n",
       "      <th>Month</th>\n",
       "      <th>IT</th>\n",
       "    </tr>\n",
       "  </thead>\n",
       "  <tbody>\n",
       "    <tr>\n",
       "      <th>0</th>\n",
       "      <td>AMERIA Investment Consulting Company\\r\\nJOB TI...</td>\n",
       "      <td>Jan 5, 2004</td>\n",
       "      <td>Chief Financial Officer</td>\n",
       "      <td>AMERIA Investment Consulting Company</td>\n",
       "      <td>NaN</td>\n",
       "      <td>NaN</td>\n",
       "      <td>NaN</td>\n",
       "      <td>NaN</td>\n",
       "      <td>NaN</td>\n",
       "      <td>NaN</td>\n",
       "      <td>...</td>\n",
       "      <td>NaN</td>\n",
       "      <td>To apply for this position, please submit a\\r\\...</td>\n",
       "      <td>NaN</td>\n",
       "      <td>26 January 2004</td>\n",
       "      <td>NaN</td>\n",
       "      <td>NaN</td>\n",
       "      <td>NaN</td>\n",
       "      <td>2004</td>\n",
       "      <td>1</td>\n",
       "      <td>False</td>\n",
       "    </tr>\n",
       "    <tr>\n",
       "      <th>1</th>\n",
       "      <td>International Research &amp; Exchanges Board (IREX...</td>\n",
       "      <td>Jan 7, 2004</td>\n",
       "      <td>Full-time Community Connections Intern (paid i...</td>\n",
       "      <td>International Research &amp; Exchanges Board (IREX)</td>\n",
       "      <td>NaN</td>\n",
       "      <td>NaN</td>\n",
       "      <td>NaN</td>\n",
       "      <td>NaN</td>\n",
       "      <td>NaN</td>\n",
       "      <td>3 months</td>\n",
       "      <td>...</td>\n",
       "      <td>NaN</td>\n",
       "      <td>Please submit a cover letter and resume to:\\r\\...</td>\n",
       "      <td>NaN</td>\n",
       "      <td>12 January 2004</td>\n",
       "      <td>NaN</td>\n",
       "      <td>The International Research &amp; Exchanges Board (...</td>\n",
       "      <td>NaN</td>\n",
       "      <td>2004</td>\n",
       "      <td>1</td>\n",
       "      <td>False</td>\n",
       "    </tr>\n",
       "    <tr>\n",
       "      <th>2</th>\n",
       "      <td>Caucasus Environmental NGO Network (CENN)\\r\\nJ...</td>\n",
       "      <td>Jan 7, 2004</td>\n",
       "      <td>Country Coordinator</td>\n",
       "      <td>Caucasus Environmental NGO Network (CENN)</td>\n",
       "      <td>NaN</td>\n",
       "      <td>NaN</td>\n",
       "      <td>NaN</td>\n",
       "      <td>NaN</td>\n",
       "      <td>NaN</td>\n",
       "      <td>Renewable annual contract\\r\\nPOSITION</td>\n",
       "      <td>...</td>\n",
       "      <td>NaN</td>\n",
       "      <td>Please send resume or CV toursula.kazarian@......</td>\n",
       "      <td>NaN</td>\n",
       "      <td>20 January 2004\\r\\nSTART DATE:  February 2004</td>\n",
       "      <td>NaN</td>\n",
       "      <td>The Caucasus Environmental NGO Network is a\\r\\...</td>\n",
       "      <td>NaN</td>\n",
       "      <td>2004</td>\n",
       "      <td>1</td>\n",
       "      <td>False</td>\n",
       "    </tr>\n",
       "    <tr>\n",
       "      <th>3</th>\n",
       "      <td>Manoff Group\\r\\nJOB TITLE:  BCC Specialist\\r\\n...</td>\n",
       "      <td>Jan 7, 2004</td>\n",
       "      <td>BCC Specialist</td>\n",
       "      <td>Manoff Group</td>\n",
       "      <td>NaN</td>\n",
       "      <td>NaN</td>\n",
       "      <td>NaN</td>\n",
       "      <td>NaN</td>\n",
       "      <td>NaN</td>\n",
       "      <td>NaN</td>\n",
       "      <td>...</td>\n",
       "      <td>NaN</td>\n",
       "      <td>Please send cover letter and resume to Amy\\r\\n...</td>\n",
       "      <td>NaN</td>\n",
       "      <td>23 January 2004\\r\\nSTART DATE:  Immediate</td>\n",
       "      <td>NaN</td>\n",
       "      <td>NaN</td>\n",
       "      <td>NaN</td>\n",
       "      <td>2004</td>\n",
       "      <td>1</td>\n",
       "      <td>False</td>\n",
       "    </tr>\n",
       "    <tr>\n",
       "      <th>4</th>\n",
       "      <td>Yerevan Brandy Company\\r\\nJOB TITLE:  Software...</td>\n",
       "      <td>Jan 10, 2004</td>\n",
       "      <td>Software Developer</td>\n",
       "      <td>Yerevan Brandy Company</td>\n",
       "      <td>NaN</td>\n",
       "      <td>NaN</td>\n",
       "      <td>NaN</td>\n",
       "      <td>NaN</td>\n",
       "      <td>NaN</td>\n",
       "      <td>NaN</td>\n",
       "      <td>...</td>\n",
       "      <td>NaN</td>\n",
       "      <td>Successful candidates should submit\\r\\n- CV; \\...</td>\n",
       "      <td>NaN</td>\n",
       "      <td>20 January 2004, 18:00</td>\n",
       "      <td>NaN</td>\n",
       "      <td>NaN</td>\n",
       "      <td>NaN</td>\n",
       "      <td>2004</td>\n",
       "      <td>1</td>\n",
       "      <td>True</td>\n",
       "    </tr>\n",
       "  </tbody>\n",
       "</table>\n",
       "<p>5 rows × 24 columns</p>\n",
       "</div>"
      ],
      "text/plain": [
       "                                             jobpost          date  \\\n",
       "0  AMERIA Investment Consulting Company\\r\\nJOB TI...   Jan 5, 2004   \n",
       "1  International Research & Exchanges Board (IREX...   Jan 7, 2004   \n",
       "2  Caucasus Environmental NGO Network (CENN)\\r\\nJ...   Jan 7, 2004   \n",
       "3  Manoff Group\\r\\nJOB TITLE:  BCC Specialist\\r\\n...   Jan 7, 2004   \n",
       "4  Yerevan Brandy Company\\r\\nJOB TITLE:  Software...  Jan 10, 2004   \n",
       "\n",
       "                                               Title  \\\n",
       "0                            Chief Financial Officer   \n",
       "1  Full-time Community Connections Intern (paid i...   \n",
       "2                                Country Coordinator   \n",
       "3                                     BCC Specialist   \n",
       "4                                 Software Developer   \n",
       "\n",
       "                                           Company AnnouncementCode Term  \\\n",
       "0             AMERIA Investment Consulting Company              NaN  NaN   \n",
       "1  International Research & Exchanges Board (IREX)              NaN  NaN   \n",
       "2        Caucasus Environmental NGO Network (CENN)              NaN  NaN   \n",
       "3                                     Manoff Group              NaN  NaN   \n",
       "4                           Yerevan Brandy Company              NaN  NaN   \n",
       "\n",
       "  Eligibility Audience StartDate                               Duration  ...  \\\n",
       "0         NaN      NaN       NaN                                    NaN  ...   \n",
       "1         NaN      NaN       NaN                               3 months  ...   \n",
       "2         NaN      NaN       NaN  Renewable annual contract\\r\\nPOSITION  ...   \n",
       "3         NaN      NaN       NaN                                    NaN  ...   \n",
       "4         NaN      NaN       NaN                                    NaN  ...   \n",
       "\n",
       "  Salary                                       ApplicationP OpeningDate  \\\n",
       "0    NaN  To apply for this position, please submit a\\r\\...         NaN   \n",
       "1    NaN  Please submit a cover letter and resume to:\\r\\...         NaN   \n",
       "2    NaN  Please send resume or CV toursula.kazarian@......         NaN   \n",
       "3    NaN  Please send cover letter and resume to Amy\\r\\n...         NaN   \n",
       "4    NaN  Successful candidates should submit\\r\\n- CV; \\...         NaN   \n",
       "\n",
       "                                        Deadline Notes  \\\n",
       "0                                26 January 2004   NaN   \n",
       "1                                12 January 2004   NaN   \n",
       "2  20 January 2004\\r\\nSTART DATE:  February 2004   NaN   \n",
       "3      23 January 2004\\r\\nSTART DATE:  Immediate   NaN   \n",
       "4                         20 January 2004, 18:00   NaN   \n",
       "\n",
       "                                              AboutC Attach  Year Month     IT  \n",
       "0                                                NaN    NaN  2004     1  False  \n",
       "1  The International Research & Exchanges Board (...    NaN  2004     1  False  \n",
       "2  The Caucasus Environmental NGO Network is a\\r\\...    NaN  2004     1  False  \n",
       "3                                                NaN    NaN  2004     1  False  \n",
       "4                                                NaN    NaN  2004     1   True  \n",
       "\n",
       "[5 rows x 24 columns]"
      ]
     },
     "execution_count": 1,
     "metadata": {},
     "output_type": "execute_result"
    }
   ],
   "source": [
    "import pandas as pd\n",
    "import numpy as np\n",
    "df=pd.read_csv(\"data job posts.csv\")\n",
    "df.head()"
   ]
  },
  {
   "cell_type": "code",
   "execution_count": 2,
   "id": "da7bf5ff",
   "metadata": {},
   "outputs": [
    {
     "data": {
      "text/plain": [
       "jobpost             object\n",
       "date                object\n",
       "Title               object\n",
       "Company             object\n",
       "AnnouncementCode    object\n",
       "Term                object\n",
       "Eligibility         object\n",
       "Audience            object\n",
       "StartDate           object\n",
       "Duration            object\n",
       "Location            object\n",
       "JobDescription      object\n",
       "JobRequirment       object\n",
       "RequiredQual        object\n",
       "Salary              object\n",
       "ApplicationP        object\n",
       "OpeningDate         object\n",
       "Deadline            object\n",
       "Notes               object\n",
       "AboutC              object\n",
       "Attach              object\n",
       "Year                 int64\n",
       "Month                int64\n",
       "IT                    bool\n",
       "dtype: object"
      ]
     },
     "execution_count": 2,
     "metadata": {},
     "output_type": "execute_result"
    }
   ],
   "source": [
    "df.dtypes"
   ]
  },
  {
   "cell_type": "code",
   "execution_count": 3,
   "id": "378c231f",
   "metadata": {},
   "outputs": [
    {
     "name": "stdout",
     "output_type": "stream",
     "text": [
      "jobpost                 0\n",
      "date                    0\n",
      "Title                  28\n",
      "Company                 7\n",
      "AnnouncementCode    17793\n",
      "Term                11325\n",
      "Eligibility         14071\n",
      "Audience            18361\n",
      "StartDate            9326\n",
      "Duration             8203\n",
      "Location               32\n",
      "JobDescription       3892\n",
      "JobRequirment        2522\n",
      "RequiredQual          484\n",
      "Salary               9379\n",
      "ApplicationP           60\n",
      "OpeningDate           706\n",
      "Deadline               65\n",
      "Notes               16790\n",
      "AboutC               6531\n",
      "Attach              17442\n",
      "Year                    0\n",
      "Month                   0\n",
      "IT                      0\n",
      "dtype: int64\n"
     ]
    }
   ],
   "source": [
    "#Checking for NaN (missing values) in all columns\n",
    "print(df.isna().sum())"
   ]
  },
  {
   "cell_type": "code",
   "execution_count": 4,
   "id": "06cfe56a",
   "metadata": {},
   "outputs": [
    {
     "name": "stdout",
     "output_type": "stream",
     "text": [
      "jobpost             0\n",
      "date                0\n",
      "Title               0\n",
      "Company             0\n",
      "AnnouncementCode    0\n",
      "Term                0\n",
      "Eligibility         0\n",
      "Audience            0\n",
      "StartDate           0\n",
      "Duration            0\n",
      "Location            0\n",
      "JobDescription      0\n",
      "JobRequirment       0\n",
      "RequiredQual        0\n",
      "Salary              0\n",
      "ApplicationP        0\n",
      "OpeningDate         0\n",
      "Deadline            0\n",
      "Notes               0\n",
      "AboutC              0\n",
      "Attach              0\n",
      "Year                0\n",
      "Month               0\n",
      "IT                  0\n",
      "dtype: int64\n"
     ]
    }
   ],
   "source": [
    "#• Fill missing values using mode (for categorical) and median (for numeric) where\n",
    "appropriate.\n",
    "for column in df.columns:\n",
    "    if df[column].dtype == 'object': \n",
    "        mode_value = df[column].mode()[0]  \n",
    "        df[column].fillna(mode_value, inplace=True)\n",
    "    else:  \n",
    "        median_value = df[column].median() \n",
    "        df[column].fillna(median_value, inplace=True)\n",
    "\n",
    "# Check if missing values are filled\n",
    "print(df.isna().sum())"
   ]
  },
  {
   "cell_type": "code",
   "execution_count": 5,
   "id": "51059abb",
   "metadata": {},
   "outputs": [
    {
     "data": {
      "text/plain": [
       "Index(['jobpost', 'date', 'Title', 'Company', 'AnnouncementCode', 'Term',\n",
       "       'Eligibility', 'Audience', 'StartDate', 'Duration', 'Location',\n",
       "       'JobDescription', 'JobRequirment', 'RequiredQual', 'Salary',\n",
       "       'ApplicationP', 'OpeningDate', 'Deadline', 'Notes', 'AboutC', 'Attach',\n",
       "       'Year', 'Month', 'IT'],\n",
       "      dtype='object')"
      ]
     },
     "execution_count": 5,
     "metadata": {},
     "output_type": "execute_result"
    }
   ],
   "source": [
    "df.columns"
   ]
  },
  {
   "cell_type": "code",
   "execution_count": 6,
   "id": "8cf53fa4",
   "metadata": {
    "scrolled": true
   },
   "outputs": [
    {
     "name": "stdout",
     "output_type": "stream",
     "text": [
      "Index(['jobpost', 'date', 'Title', 'Company', 'AnnouncementCode', 'Term',\n",
      "       'Eligibility', 'Audience', 'StartDate', 'Duration', 'Location',\n",
      "       'JobDescription', 'JobRequirment', 'RequiredQual', 'Salary',\n",
      "       'ApplicationP', 'OpeningDate', 'Deadline', 'AboutC', 'Year', 'Month',\n",
      "       'IT'],\n",
      "      dtype='object')\n"
     ]
    }
   ],
   "source": [
    "#Drop irrelevant columns (e.g., Attach, Notes if they contain too much noise).\n",
    "columns_to_drop = ['Attach', 'Notes']\n",
    "df.drop(columns=columns_to_drop, axis=1, inplace=True)\n",
    "print(df.columns)"
   ]
  },
  {
   "cell_type": "code",
   "execution_count": 12,
   "id": "874a2633",
   "metadata": {},
   "outputs": [
    {
     "name": "stdout",
     "output_type": "stream",
     "text": [
      "0        AMERIA Investment Consulting Company is seekin...\n",
      "1        The incumbent will work under the direct super...\n",
      "2        Public outreach and strengthening of a growing...\n",
      "3        The LEAD (Local Enhancement and Development fo...\n",
      "4        The incumbent will work under the direct super...\n",
      "                               ...                        \n",
      "18996    A tech startup of Technolinguistics based in N...\n",
      "18997    The incumbent will work under the direct super...\n",
      "18998    The incumbent will work under the direct super...\n",
      "18999    San Lazzaro LLC is looking for a well-experien...\n",
      "19000    \"Kamurj\" UCO CJSC is looking for a Lawyer in L...\n",
      "Name: JobDescription, Length: 19001, dtype: object\n"
     ]
    }
   ],
   "source": [
    "single_column = df['JobDescription']  # Replace 'JobDescription' with your column name\n",
    "print(single_column)"
   ]
  },
  {
   "cell_type": "code",
   "execution_count": 17,
   "id": "fda1100c",
   "metadata": {},
   "outputs": [
    {
     "name": "stdout",
     "output_type": "stream",
     "text": [
      "0        AMERIA Investment Consulting Company is seekin...\n",
      "1        The incumbent will work under the direct super...\n",
      "2        Public outreach and strengthening of a growing...\n",
      "3        The LEAD Local Enhancement and Development for...\n",
      "4        The incumbent will work under the direct super...\n",
      "                               ...                        \n",
      "18996    A tech startup of Technolinguistics based in N...\n",
      "18997    The incumbent will work under the direct super...\n",
      "18998    The incumbent will work under the direct super...\n",
      "18999    San Lazzaro LLC is looking for a wellexperienc...\n",
      "19000    Kamurj UCO CJSC is looking for a Lawyer in Leg...\n",
      "Name: Cleaned_JobDescription, Length: 19001, dtype: object\n"
     ]
    }
   ],
   "source": [
    "#Clean JobDescription and JobRequirment by:Removing HTML tags, special characters, and excessive whitespace\n",
    "import re\n",
    "\n",
    "# Function to clean text: Remove HTML tags, special characters, and excessive whitespace\n",
    "def clean_text(text):\n",
    "    # Remove HTML tags using regular expression\n",
    "    text = re.sub(r'<.*?>', '', text)  # This will remove everything between < and >\n",
    "\n",
    "    # Remove special characters, keeping only alphanumeric characters and spaces\n",
    "    text = re.sub(r'[^a-zA-Z0-9\\s]', '', text)\n",
    "\n",
    "    # Remove excessive whitespace (replace multiple spaces with a single space)\n",
    "    text = re.sub(r'\\s+', ' ', text).strip()\n",
    "\n",
    "    return text\n",
    "\n",
    "# Clean the 'JobDescription' and 'JobRequirment' columns\n",
    "df['Cleaned_JobDescription'] = df['JobDescription'].apply(clean_text)\n",
    "df['Cleaned_JobRequirment'] = df['JobRequirment'].apply(clean_text)\n",
    "\n",
    "# Display the cleaned data\n",
    "print(df['Cleaned_JobDescription'])"
   ]
  },
  {
   "cell_type": "code",
   "execution_count": 15,
   "id": "61f1ad93",
   "metadata": {},
   "outputs": [
    {
     "name": "stdout",
     "output_type": "stream",
     "text": [
      "Requirement already satisfied: nltk in c:\\users\\cvr\\anaconda3\\lib\\site-packages (3.8.1)\n",
      "Requirement already satisfied: click in c:\\users\\cvr\\anaconda3\\lib\\site-packages (from nltk) (8.0.4)\n",
      "Requirement already satisfied: joblib in c:\\users\\cvr\\anaconda3\\lib\\site-packages (from nltk) (1.2.0)\n",
      "Requirement already satisfied: regex>=2021.8.3 in c:\\users\\cvr\\anaconda3\\lib\\site-packages (from nltk) (2022.7.9)\n",
      "Requirement already satisfied: tqdm in c:\\users\\cvr\\anaconda3\\lib\\site-packages (from nltk) (4.65.0)\n",
      "Requirement already satisfied: colorama in c:\\users\\cvr\\anaconda3\\lib\\site-packages (from click->nltk) (0.4.6)\n",
      "Note: you may need to restart the kernel to use updated packages.\n"
     ]
    }
   ],
   "source": [
    "pip install nltk"
   ]
  },
  {
   "cell_type": "code",
   "execution_count": 25,
   "id": "d2030f4a",
   "metadata": {
    "scrolled": true
   },
   "outputs": [
    {
     "name": "stderr",
     "output_type": "stream",
     "text": [
      "[nltk_data] Downloading package punkt to\n",
      "[nltk_data]     C:\\Users\\CVR\\AppData\\Roaming\\nltk_data...\n",
      "[nltk_data]   Package punkt is already up-to-date!\n"
     ]
    },
    {
     "name": "stdout",
     "output_type": "stream",
     "text": [
      "                                  Cleaned_JobDescription  \\\n",
      "0      [ameria, investment, consulting, company, is, ...   \n",
      "1      [the, incumbent, will, work, under, the, direc...   \n",
      "2      [public, outreach, and, strengthening, of, a, ...   \n",
      "3      [the, lead, local, enhancement, and, developme...   \n",
      "4      [the, incumbent, will, work, under, the, direc...   \n",
      "...                                                  ...   \n",
      "18996  [a, tech, startup, of, technolinguistics, base...   \n",
      "18997  [the, incumbent, will, work, under, the, direc...   \n",
      "18998  [the, incumbent, will, work, under, the, direc...   \n",
      "18999  [san, lazzaro, llc, is, looking, for, a, welle...   \n",
      "19000  [kamurj, uco, cjsc, is, looking, for, a, lawye...   \n",
      "\n",
      "                                   Cleaned_JobRequirment  \n",
      "0      [supervises, financial, management, and, admin...  \n",
      "1      [participate, in, application, design, provide...  \n",
      "2      [working, with, the, country, director, to, pr...  \n",
      "3      [identify, gaps, in, knowledge, and, overseein...  \n",
      "4      [rendering, technical, assistance, to, databas...  \n",
      "...                                                  ...  \n",
      "18996  [work, closely, with, product, and, business, ...  \n",
      "18997  [establish, and, manage, category, management,...  \n",
      "18998  [develop, establish, and, maintain, marketing,...  \n",
      "18999  [handle, the, project, activites, of, the, onl...  \n",
      "19000  [properly, provide, internal, legal, services,...  \n",
      "\n",
      "[19001 rows x 2 columns]\n"
     ]
    }
   ],
   "source": [
    "#Tokenizing and lowercasing for NLP tasks\n",
    "import nltk\n",
    "import pandas as pd\n",
    "\n",
    "# Download NLTK data for tokenization\n",
    "nltk.download('punkt')\n",
    "\n",
    "# Function to clean, tokenize, and lowercase the text\n",
    "def clean_tokenize_lowercase(text):\n",
    "    # Tokenize the text into words\n",
    "    tokens = nltk.word_tokenize(text)\n",
    "   \n",
    "    # Lowercase the tokens (convert all words to lowercase)\n",
    "    tokens = [word.lower() for word in tokens]\n",
    "   \n",
    "    return tokens\n",
    "df['Cleaned_JobDescription'] = df['Cleaned_JobDescription'].apply(clean_tokenize_lowercase)\n",
    "df['Cleaned_JobRequirment'] = df['Cleaned_JobRequirment'].apply(clean_tokenize_lowercase)\n",
    "\n",
    "# Display the results\n",
    "print(df[['Cleaned_JobDescription','Cleaned_JobRequirment']])\n"
   ]
  },
  {
   "cell_type": "code",
   "execution_count": 39,
   "id": "811f569e",
   "metadata": {},
   "outputs": [
    {
     "name": "stderr",
     "output_type": "stream",
     "text": [
      "[nltk_data] Downloading package punkt to\n",
      "[nltk_data]     C:\\Users\\CVR\\AppData\\Roaming\\nltk_data...\n",
      "[nltk_data]   Package punkt is already up-to-date!\n"
     ]
    },
    {
     "name": "stdout",
     "output_type": "stream",
     "text": [
      "      Extracted_JobDescription_Skills Extracted_JobRequirment_Skills\n",
      "0                                                                   \n",
      "1                                                                   \n",
      "2                                                                   \n",
      "3                                                                   \n",
      "4                                                                sql\n",
      "...                               ...                            ...\n",
      "18996                                                               \n",
      "18997                                                               \n",
      "18998                                                               \n",
      "18999                                                               \n",
      "19000                                                               \n",
      "\n",
      "[19001 rows x 2 columns]\n"
     ]
    }
   ],
   "source": [
    "#Extracting key skills (Python, Java, SQL, etc.).\n",
    "import nltk\n",
    "import pandas as pd\n",
    "\n",
    "# Download NLTK data (for tokenizing)\n",
    "nltk.download('punkt')\n",
    "\n",
    "# Define key skills\n",
    "key_skills = ['python', 'java', 'sql', 'html', 'css', 'javascript', 'nodejs', 'aws', 'spring', 'restful api', 'ruby', 'c++', 'machine learning', 'data science']\n",
    "# Function to extract key skills from text\n",
    "def extract_skills_from_text(text, skills_list):\n",
    "    # Tokenize the text into words\n",
    "    tokens = nltk.word_tokenize(text.lower())  # Convert to lowercase for matching\n",
    "   \n",
    "    # Extract skills by checking if the token matches any key skill\n",
    "    extracted_skills = [skill for skill in skills_list if skill in tokens]\n",
    "   \n",
    "    # Return the skills as a comma-separated string\n",
    "    return ', '.join(extracted_skills)\n",
    "\n",
    "# Extract key skills from the 'JobDescription' and 'JobRequirment' columns\n",
    "df['Extracted_JobDescription_Skills'] = df['JobDescription'].apply(lambda x: extract_skills_from_text(x, key_skills))\n",
    "df['Extracted_JobRequirment_Skills'] = df['JobRequirment'].apply(lambda x: extract_skills_from_text(x, key_skills))\n",
    "\n",
    "# Display the results\n",
    "print(df[['Extracted_JobDescription_Skills', 'Extracted_JobRequirment_Skills']])\n"
   ]
  },
  {
   "cell_type": "code",
   "execution_count": 40,
   "id": "3543e33e",
   "metadata": {},
   "outputs": [
    {
     "name": "stdout",
     "output_type": "stream",
     "text": [
      "0                                  Chief Financial Officer\n",
      "1        Full-time Community Connections Intern (paid i...\n",
      "2                                      Country Coordinator\n",
      "3                                           BCC Specialist\n",
      "4                                        Software Engineer\n",
      "                               ...                        \n",
      "18996                      Senior Creative UX/ UI Designer\n",
      "18997                         Category Development Manager\n",
      "18998                        Operational Marketing Manager\n",
      "18999                      Head of Online Sales Department\n",
      "19000                           Lawyer in Legal Department\n",
      "Name: Title, Length: 19001, dtype: object\n"
     ]
    }
   ],
   "source": [
    "title_mapping = {\n",
    "    \"Software Eng.\": \"Software Engineer\",\n",
    "    \"Software Developer\": \"Software Engineer\",\n",
    "    \"Sr. Software Engineer\": \"Senior Software Engineer\",\n",
    "    \"Data Sci.\": \"Data Scientist\",\n",
    "    \"Data Analyst\": \"Data Analyst\",\n",
    "    \"Product Mgr.\": \"Product Manager\",\n",
    "    \"Proj. Manager\": \"Project Manager\",\n",
    "    \"DevOps Eng.\": \"DevOps Engineer\",\n",
    "    \"Sr. DevOps Eng.\": \"Senior DevOps Engineer\",\n",
    "    # Add more mappings as needed\n",
    "}\n",
    "\n",
    "# Apply the mapping to the 'Title' column\n",
    "df['Title'] = df['Title'].replace(title_mapping)\n",
    "\n",
    "# Preview the updated DataFrame\n",
    "print(df['Title'])\n"
   ]
  },
  {
   "cell_type": "code",
   "execution_count": 41,
   "id": "e2f798b8",
   "metadata": {},
   "outputs": [
    {
     "name": "stdout",
     "output_type": "stream",
     "text": [
      "            Term\n",
      "0      Full time\n",
      "1      Full time\n",
      "2      Full time\n",
      "3      Full time\n",
      "4      Full time\n",
      "...          ...\n",
      "18996  Full-time\n",
      "18997  Full-time\n",
      "18998  Full-time\n",
      "18999  Full time\n",
      "19000  Full-time\n",
      "\n",
      "[19001 rows x 1 columns]\n"
     ]
    }
   ],
   "source": [
    "term_mapping = {\n",
    "    \"FT\": \"Full-time\",\n",
    "    \"full time\": \"Full-time\",\n",
    "    \"Part-time\": \"Part-time\",\n",
    "    \"PT\": \"Part-time\",\n",
    "    \"Contract\": \"Contract\",\n",
    "    \"Internship\": \"Internship\",\n",
    "    \"Temporary\": \"Temporary\",\n",
    "    \"Freelance\": \"Freelance\",\n",
    "    # Add more mappings as needed\n",
    "}\n",
    "\n",
    "# Apply the mapping to the 'Term' column\n",
    "df['Term'] = df['Term'].replace(term_mapping)\n",
    "\n",
    "# Preview the updated DataFrame\n",
    "print(df[['Term']])\n"
   ]
  },
  {
   "cell_type": "code",
   "execution_count": 42,
   "id": "58d69f74",
   "metadata": {},
   "outputs": [
    {
     "name": "stdout",
     "output_type": "stream",
     "text": [
      "        date StartDate OpeningDate   Deadline\n",
      "0 2004-01-05       NaT  2009-07-17 2004-01-26\n",
      "1 2004-01-07       NaT  2009-07-17 2004-01-12\n",
      "2 2004-01-07       NaT  2009-07-17        NaT\n",
      "3 2004-01-07       NaT  2009-07-17        NaT\n",
      "4 2004-01-10       NaT  2009-07-17        NaT\n"
     ]
    },
    {
     "data": {
      "text/plain": [
       "jobpost                                    object\n",
       "date                               datetime64[ns]\n",
       "Title                                      object\n",
       "Company                                    object\n",
       "AnnouncementCode                           object\n",
       "Term                                       object\n",
       "Eligibility                                object\n",
       "Audience                                   object\n",
       "StartDate                          datetime64[ns]\n",
       "Duration                                   object\n",
       "Location                                   object\n",
       "JobDescription                             object\n",
       "JobRequirment                              object\n",
       "RequiredQual                               object\n",
       "Salary                                     object\n",
       "ApplicationP                               object\n",
       "OpeningDate                        datetime64[ns]\n",
       "Deadline                           datetime64[ns]\n",
       "AboutC                                     object\n",
       "Year                                        int64\n",
       "Month                                       int64\n",
       "IT                                           bool\n",
       "Cleaned_JobDescription                     object\n",
       "Cleaned_JobRequirment                      object\n",
       "Tokenized_JobDescription                   object\n",
       "Tokenized_JobRequirment                    object\n",
       "ExtractedJobDescriptionSkills              object\n",
       "ExtractedJobRequirmentSkills               object\n",
       "Extracted_JobDescription_Skills            object\n",
       "Extracted_JobRequirment_Skills             object\n",
       "DaysLeftToApply                           float64\n",
       "JobStartDelay                             float64\n",
       "Deadline_Year                             float64\n",
       "Deadline_Month                            float64\n",
       "StartDate_Year                            float64\n",
       "StartDate_Month                           float64\n",
       "OpeningDate_Year                          float64\n",
       "OpeningDate_Month                         float64\n",
       "dtype: object"
      ]
     },
     "execution_count": 42,
     "metadata": {},
     "output_type": "execute_result"
    }
   ],
   "source": [
    "#Convert date, StartDate, OpeningDate, Deadline into datetime format\n",
    "df['date'] = pd.to_datetime(df['date'], errors='coerce')  # 'errors=\"coerce\"' will handle any invalid date format\n",
    "df['StartDate'] = pd.to_datetime(df['StartDate'], errors='coerce')\n",
    "df['OpeningDate'] = pd.to_datetime(df['OpeningDate'], errors='coerce')\n",
    "df['Deadline'] = pd.to_datetime(df['Deadline'], errors='coerce')\n",
    "\n",
    "# Preview the DataFrame to check if the conversion was successful\n",
    "print(df[['date', 'StartDate', 'OpeningDate', 'Deadline']].head())\n",
    "df.dtypes"
   ]
  },
  {
   "cell_type": "code",
   "execution_count": 43,
   "id": "8b971738",
   "metadata": {},
   "outputs": [
    {
     "name": "stdout",
     "output_type": "stream",
     "text": [
      "    Deadline OpeningDate StartDate  DaysLeftToApply  JobStartDelay  \\\n",
      "0 2004-01-26  2009-07-17       NaT          -1999.0            NaN   \n",
      "1 2004-01-12  2009-07-17       NaT          -2013.0            NaN   \n",
      "2        NaT  2009-07-17       NaT              NaN            NaN   \n",
      "3        NaT  2009-07-17       NaT              NaN            NaN   \n",
      "4        NaT  2009-07-17       NaT              NaN            NaN   \n",
      "\n",
      "   Deadline_Year  Deadline_Month  StartDate_Year  StartDate_Month  \\\n",
      "0         2004.0             1.0             NaN              NaN   \n",
      "1         2004.0             1.0             NaN              NaN   \n",
      "2            NaN             NaN             NaN              NaN   \n",
      "3            NaN             NaN             NaN              NaN   \n",
      "4            NaN             NaN             NaN              NaN   \n",
      "\n",
      "   OpeningDate_Year  OpeningDate_Month  \n",
      "0            2009.0                7.0  \n",
      "1            2009.0                7.0  \n",
      "2            2009.0                7.0  \n",
      "3            2009.0                7.0  \n",
      "4            2009.0                7.0  \n"
     ]
    }
   ],
   "source": [
    "# Calculate 'Days left to apply' (Deadline - OpeningDate)\n",
    "df['DaysLeftToApply'] = (df['Deadline'] - df['OpeningDate']).dt.days\n",
    "\n",
    "# Calculate 'Job start delay' (StartDate - OpeningDate)\n",
    "df['JobStartDelay'] = (df['StartDate'] - df['OpeningDate']).dt.days\n",
    "\n",
    "# Extract year and month from dates\n",
    "df['Deadline_Year'] = df['Deadline'].dt.year\n",
    "df['Deadline_Month'] = df['Deadline'].dt.month\n",
    "df['StartDate_Year'] = df['StartDate'].dt.year\n",
    "df['StartDate_Month'] = df['StartDate'].dt.month\n",
    "df['OpeningDate_Year'] = df['OpeningDate'].dt.year\n",
    "df['OpeningDate_Month'] = df['OpeningDate'].dt.month\n",
    "\n",
    "# Preview the DataFrame with the new columns\n",
    "print(df[['Deadline', 'OpeningDate', 'StartDate', 'DaysLeftToApply', 'JobStartDelay', 'Deadline_Year', 'Deadline_Month', 'StartDate_Year', 'StartDate_Month', 'OpeningDate_Year', 'OpeningDate_Month']].head())\n"
   ]
  },
  {
   "cell_type": "code",
   "execution_count": null,
   "id": "2466e488",
   "metadata": {},
   "outputs": [],
   "source": []
  }
 ],
 "metadata": {
  "kernelspec": {
   "display_name": "Python 3 (ipykernel)",
   "language": "python",
   "name": "python3"
  },
  "language_info": {
   "codemirror_mode": {
    "name": "ipython",
    "version": 3
   },
   "file_extension": ".py",
   "mimetype": "text/x-python",
   "name": "python",
   "nbconvert_exporter": "python",
   "pygments_lexer": "ipython3",
   "version": "3.11.5"
  }
 },
 "nbformat": 4,
 "nbformat_minor": 5
}
